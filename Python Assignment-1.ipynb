{
 "cells": [
  {
   "cell_type": "code",
   "execution_count": 2,
   "id": "fc0affef-dbdd-481c-94bf-0b71e661e69b",
   "metadata": {
    "tags": []
   },
   "outputs": [
    {
     "name": "stdout",
     "output_type": "stream",
     "text": [
      "Requirement already satisfied: yfinance in /home/jupyterlab/conda/envs/python/lib/python3.7/site-packages (0.2.32)\n",
      "Requirement already satisfied: pandas>=1.3.0 in /home/jupyterlab/conda/envs/python/lib/python3.7/site-packages (from yfinance) (1.3.5)\n",
      "Requirement already satisfied: numpy>=1.16.5 in /home/jupyterlab/conda/envs/python/lib/python3.7/site-packages (from yfinance) (1.21.6)\n",
      "Requirement already satisfied: requests>=2.31 in /home/jupyterlab/conda/envs/python/lib/python3.7/site-packages (from yfinance) (2.31.0)\n",
      "Requirement already satisfied: multitasking>=0.0.7 in /home/jupyterlab/conda/envs/python/lib/python3.7/site-packages (from yfinance) (0.0.11)\n",
      "Requirement already satisfied: lxml>=4.9.1 in /home/jupyterlab/conda/envs/python/lib/python3.7/site-packages (from yfinance) (4.9.2)\n",
      "Requirement already satisfied: appdirs>=1.4.4 in /home/jupyterlab/conda/envs/python/lib/python3.7/site-packages (from yfinance) (1.4.4)\n",
      "Requirement already satisfied: pytz>=2022.5 in /home/jupyterlab/conda/envs/python/lib/python3.7/site-packages (from yfinance) (2023.3)\n",
      "Requirement already satisfied: frozendict>=2.3.4 in /home/jupyterlab/conda/envs/python/lib/python3.7/site-packages (from yfinance) (2.3.10)\n",
      "Requirement already satisfied: peewee>=3.16.2 in /home/jupyterlab/conda/envs/python/lib/python3.7/site-packages (from yfinance) (3.17.0)\n",
      "Requirement already satisfied: beautifulsoup4>=4.11.1 in /home/jupyterlab/conda/envs/python/lib/python3.7/site-packages (from yfinance) (4.11.1)\n",
      "Requirement already satisfied: html5lib>=1.1 in /home/jupyterlab/conda/envs/python/lib/python3.7/site-packages (from yfinance) (1.1)\n",
      "Requirement already satisfied: soupsieve>1.2 in /home/jupyterlab/conda/envs/python/lib/python3.7/site-packages (from beautifulsoup4>=4.11.1->yfinance) (2.3.2.post1)\n",
      "Requirement already satisfied: six>=1.9 in /home/jupyterlab/conda/envs/python/lib/python3.7/site-packages (from html5lib>=1.1->yfinance) (1.16.0)\n",
      "Requirement already satisfied: webencodings in /home/jupyterlab/conda/envs/python/lib/python3.7/site-packages (from html5lib>=1.1->yfinance) (0.5.1)\n",
      "Requirement already satisfied: python-dateutil>=2.7.3 in /home/jupyterlab/conda/envs/python/lib/python3.7/site-packages (from pandas>=1.3.0->yfinance) (2.8.2)\n",
      "Requirement already satisfied: charset-normalizer<4,>=2 in /home/jupyterlab/conda/envs/python/lib/python3.7/site-packages (from requests>=2.31->yfinance) (3.1.0)\n",
      "Requirement already satisfied: idna<4,>=2.5 in /home/jupyterlab/conda/envs/python/lib/python3.7/site-packages (from requests>=2.31->yfinance) (3.4)\n",
      "Requirement already satisfied: urllib3<3,>=1.21.1 in /home/jupyterlab/conda/envs/python/lib/python3.7/site-packages (from requests>=2.31->yfinance) (1.26.15)\n",
      "Requirement already satisfied: certifi>=2017.4.17 in /home/jupyterlab/conda/envs/python/lib/python3.7/site-packages (from requests>=2.31->yfinance) (2023.5.7)\n"
     ]
    }
   ],
   "source": [
    "!pip install yfinance\n",
    "\n",
    "import yfinance as yf\n"
   ]
  },
  {
   "cell_type": "markdown",
   "id": "53e4f1c6-56ce-4329-ad68-54c11424c0d3",
   "metadata": {},
   "source": [
    "## Question 1: Use yfinance to Extract Stock Data\n",
    "\n",
    "\n"
   ]
  },
  {
   "cell_type": "markdown",
   "id": "07ac81f4-4ca7-445e-9511-d9f425e1ec09",
   "metadata": {},
   "source": [
    "Reset the index, save, and display the first five rows of the tesla_data dataframe using the head function. Upload a screenshot of the results and code from the beginning of Question 1 to the results below."
   ]
  },
  {
   "cell_type": "code",
   "execution_count": 26,
   "id": "38574cb4-db92-4792-85c7-acf7e5a0b4e3",
   "metadata": {
    "tags": []
   },
   "outputs": [
    {
     "data": {
      "text/html": [
       "<div>\n",
       "<style scoped>\n",
       "    .dataframe tbody tr th:only-of-type {\n",
       "        vertical-align: middle;\n",
       "    }\n",
       "\n",
       "    .dataframe tbody tr th {\n",
       "        vertical-align: top;\n",
       "    }\n",
       "\n",
       "    .dataframe thead th {\n",
       "        text-align: right;\n",
       "    }\n",
       "</style>\n",
       "<table border=\"1\" class=\"dataframe\">\n",
       "  <thead>\n",
       "    <tr style=\"text-align: right;\">\n",
       "      <th></th>\n",
       "      <th>Date</th>\n",
       "      <th>Open</th>\n",
       "      <th>High</th>\n",
       "      <th>Low</th>\n",
       "      <th>Close</th>\n",
       "      <th>Volume</th>\n",
       "      <th>Dividends</th>\n",
       "      <th>Stock Splits</th>\n",
       "    </tr>\n",
       "  </thead>\n",
       "  <tbody>\n",
       "    <tr>\n",
       "      <th>0</th>\n",
       "      <td>2010-06-29 00:00:00-04:00</td>\n",
       "      <td>1.266667</td>\n",
       "      <td>1.666667</td>\n",
       "      <td>1.169333</td>\n",
       "      <td>1.592667</td>\n",
       "      <td>281494500</td>\n",
       "      <td>0.0</td>\n",
       "      <td>0.0</td>\n",
       "    </tr>\n",
       "    <tr>\n",
       "      <th>1</th>\n",
       "      <td>2010-06-30 00:00:00-04:00</td>\n",
       "      <td>1.719333</td>\n",
       "      <td>2.028000</td>\n",
       "      <td>1.553333</td>\n",
       "      <td>1.588667</td>\n",
       "      <td>257806500</td>\n",
       "      <td>0.0</td>\n",
       "      <td>0.0</td>\n",
       "    </tr>\n",
       "    <tr>\n",
       "      <th>2</th>\n",
       "      <td>2010-07-01 00:00:00-04:00</td>\n",
       "      <td>1.666667</td>\n",
       "      <td>1.728000</td>\n",
       "      <td>1.351333</td>\n",
       "      <td>1.464000</td>\n",
       "      <td>123282000</td>\n",
       "      <td>0.0</td>\n",
       "      <td>0.0</td>\n",
       "    </tr>\n",
       "    <tr>\n",
       "      <th>3</th>\n",
       "      <td>2010-07-02 00:00:00-04:00</td>\n",
       "      <td>1.533333</td>\n",
       "      <td>1.540000</td>\n",
       "      <td>1.247333</td>\n",
       "      <td>1.280000</td>\n",
       "      <td>77097000</td>\n",
       "      <td>0.0</td>\n",
       "      <td>0.0</td>\n",
       "    </tr>\n",
       "    <tr>\n",
       "      <th>4</th>\n",
       "      <td>2010-07-06 00:00:00-04:00</td>\n",
       "      <td>1.333333</td>\n",
       "      <td>1.333333</td>\n",
       "      <td>1.055333</td>\n",
       "      <td>1.074000</td>\n",
       "      <td>103003500</td>\n",
       "      <td>0.0</td>\n",
       "      <td>0.0</td>\n",
       "    </tr>\n",
       "  </tbody>\n",
       "</table>\n",
       "</div>"
      ],
      "text/plain": [
       "                       Date      Open      High       Low     Close  \\\n",
       "0 2010-06-29 00:00:00-04:00  1.266667  1.666667  1.169333  1.592667   \n",
       "1 2010-06-30 00:00:00-04:00  1.719333  2.028000  1.553333  1.588667   \n",
       "2 2010-07-01 00:00:00-04:00  1.666667  1.728000  1.351333  1.464000   \n",
       "3 2010-07-02 00:00:00-04:00  1.533333  1.540000  1.247333  1.280000   \n",
       "4 2010-07-06 00:00:00-04:00  1.333333  1.333333  1.055333  1.074000   \n",
       "\n",
       "      Volume  Dividends  Stock Splits  \n",
       "0  281494500        0.0           0.0  \n",
       "1  257806500        0.0           0.0  \n",
       "2  123282000        0.0           0.0  \n",
       "3   77097000        0.0           0.0  \n",
       "4  103003500        0.0           0.0  "
      ]
     },
     "execution_count": 26,
     "metadata": {},
     "output_type": "execute_result"
    }
   ],
   "source": [
    "# Hi there peer marker! Please find my code below. \n",
    "\n",
    "# Get Telsla data\n",
    "Tesla = yf.Ticker(\"TSLA\")\n",
    "tesla_data = Tesla.history(period='max')\n",
    "\n",
    "# Reset the index\n",
    "tesla_data.reset_index(inplace=True)\n",
    "\n",
    "# Print out some observations\n",
    "tesla_data.head()"
   ]
  },
  {
   "cell_type": "markdown",
   "id": "4484538d-561b-4062-950e-a8ae1ae3fff4",
   "metadata": {},
   "source": [
    "# Question 2: Use Webscraping to Extract Tesla Revenue Data"
   ]
  },
  {
   "cell_type": "markdown",
   "id": "b4dfa453-39c1-403b-9483-9c7613bfef1b",
   "metadata": {},
   "source": [
    "Display the last five rows of the tesla_revenue dataframe using the tail function. Upload a screenshot of the results."
   ]
  },
  {
   "cell_type": "code",
   "execution_count": 23,
   "id": "9c7f647c-6792-426f-b51c-22ebe87b1a1b",
   "metadata": {
    "tags": []
   },
   "outputs": [],
   "source": [
    "# Import Libraries \n",
    "import pandas as pd\n",
    "import requests\n",
    "from bs4 import BeautifulSoup\n",
    "import warnings\n",
    "# Ignore all warnings\n",
    "warnings.filterwarnings(\"ignore\", category=FutureWarning)"
   ]
  },
  {
   "cell_type": "code",
   "execution_count": 47,
   "id": "11047c8e-a415-45c3-9bff-64ab085f0041",
   "metadata": {
    "tags": []
   },
   "outputs": [
    {
     "name": "stdout",
     "output_type": "stream",
     "text": [
      "    Date Revenue\n",
      "8   2013  $2,013\n",
      "9   2012    $413\n",
      "10  2011    $204\n",
      "11  2010    $117\n",
      "12  2009    $112\n"
     ]
    }
   ],
   "source": [
    "# Setting up variable of URL for Tesla's revenue data\n",
    "url = 'https://cf-courses-data.s3.us.cloud-object-storage.appdomain.cloud/IBMDeveloperSkillsNetwork-PY0220EN-SkillsNetwork/labs/project/revenue.htm'\n",
    "\n",
    "# Getting the data from URL\n",
    "response = requests.get(url)\n",
    "\n",
    "# Extract HTML information\n",
    "html_data = response.text\n",
    "\n",
    "# Parsing to beautifulsoup\n",
    "soup = BeautifulSoup(html_data,'html.parser')\n",
    "\n",
    "# Finding the tbody tag. There are two tables.This is the first one with Annual revenue\n",
    "table_body = soup.find_all(\"tbody\")[0]\n",
    "\n",
    "# Looping through each row of the first table\n",
    "data = []\n",
    "for row in table_body.find_all(\"tr\"):\n",
    "    cols = row.find_all(\"td\")\n",
    "    cols = [ele.text.strip() for ele in cols]\n",
    "    data.append(cols)\n",
    "\n",
    "    tesla_revenue = pd.DataFrame(data, columns=[\"Date\", \"Revenue\"])\n",
    "\n",
    "# Print last 5 obs    \n",
    "print(tesla_revenue.tail())"
   ]
  },
  {
   "cell_type": "markdown",
   "id": "5f9651e2-030b-42f1-b7f6-d611ca0556a1",
   "metadata": {},
   "source": [
    "# Question 3: Use yfinance to Extract Stock Data"
   ]
  },
  {
   "cell_type": "markdown",
   "id": "7d38b6f0-cfe5-458b-84cb-d98061e6d30f",
   "metadata": {},
   "source": [
    "Reset the index, save, and display the first five rows of the gme_data dataframe using the head function. Upload a screenshot of the results and code from the beginning of Question 1 to the results below."
   ]
  },
  {
   "cell_type": "code",
   "execution_count": 3,
   "id": "110d786f-c152-427b-ac33-e3de5b4e92b7",
   "metadata": {
    "tags": []
   },
   "outputs": [],
   "source": [
    "import yfinance as yf"
   ]
  },
  {
   "cell_type": "code",
   "execution_count": 6,
   "id": "0a51543e-d698-4654-83e3-5c283ec993a7",
   "metadata": {
    "tags": []
   },
   "outputs": [
    {
     "data": {
      "text/html": [
       "<div>\n",
       "<style scoped>\n",
       "    .dataframe tbody tr th:only-of-type {\n",
       "        vertical-align: middle;\n",
       "    }\n",
       "\n",
       "    .dataframe tbody tr th {\n",
       "        vertical-align: top;\n",
       "    }\n",
       "\n",
       "    .dataframe thead th {\n",
       "        text-align: right;\n",
       "    }\n",
       "</style>\n",
       "<table border=\"1\" class=\"dataframe\">\n",
       "  <thead>\n",
       "    <tr style=\"text-align: right;\">\n",
       "      <th></th>\n",
       "      <th>Date</th>\n",
       "      <th>Open</th>\n",
       "      <th>High</th>\n",
       "      <th>Low</th>\n",
       "      <th>Close</th>\n",
       "      <th>Volume</th>\n",
       "      <th>Dividends</th>\n",
       "      <th>Stock Splits</th>\n",
       "    </tr>\n",
       "  </thead>\n",
       "  <tbody>\n",
       "    <tr>\n",
       "      <th>0</th>\n",
       "      <td>2002-02-13 00:00:00-05:00</td>\n",
       "      <td>1.620128</td>\n",
       "      <td>1.693350</td>\n",
       "      <td>1.603296</td>\n",
       "      <td>1.691666</td>\n",
       "      <td>76216000</td>\n",
       "      <td>0.0</td>\n",
       "      <td>0.0</td>\n",
       "    </tr>\n",
       "    <tr>\n",
       "      <th>1</th>\n",
       "      <td>2002-02-14 00:00:00-05:00</td>\n",
       "      <td>1.712707</td>\n",
       "      <td>1.716074</td>\n",
       "      <td>1.670626</td>\n",
       "      <td>1.683250</td>\n",
       "      <td>11021600</td>\n",
       "      <td>0.0</td>\n",
       "      <td>0.0</td>\n",
       "    </tr>\n",
       "    <tr>\n",
       "      <th>2</th>\n",
       "      <td>2002-02-15 00:00:00-05:00</td>\n",
       "      <td>1.683251</td>\n",
       "      <td>1.687459</td>\n",
       "      <td>1.658002</td>\n",
       "      <td>1.674834</td>\n",
       "      <td>8389600</td>\n",
       "      <td>0.0</td>\n",
       "      <td>0.0</td>\n",
       "    </tr>\n",
       "    <tr>\n",
       "      <th>3</th>\n",
       "      <td>2002-02-19 00:00:00-05:00</td>\n",
       "      <td>1.666418</td>\n",
       "      <td>1.666418</td>\n",
       "      <td>1.578048</td>\n",
       "      <td>1.607504</td>\n",
       "      <td>7410400</td>\n",
       "      <td>0.0</td>\n",
       "      <td>0.0</td>\n",
       "    </tr>\n",
       "    <tr>\n",
       "      <th>4</th>\n",
       "      <td>2002-02-20 00:00:00-05:00</td>\n",
       "      <td>1.615920</td>\n",
       "      <td>1.662210</td>\n",
       "      <td>1.603296</td>\n",
       "      <td>1.662210</td>\n",
       "      <td>6892800</td>\n",
       "      <td>0.0</td>\n",
       "      <td>0.0</td>\n",
       "    </tr>\n",
       "  </tbody>\n",
       "</table>\n",
       "</div>"
      ],
      "text/plain": [
       "                       Date      Open      High       Low     Close    Volume  \\\n",
       "0 2002-02-13 00:00:00-05:00  1.620128  1.693350  1.603296  1.691666  76216000   \n",
       "1 2002-02-14 00:00:00-05:00  1.712707  1.716074  1.670626  1.683250  11021600   \n",
       "2 2002-02-15 00:00:00-05:00  1.683251  1.687459  1.658002  1.674834   8389600   \n",
       "3 2002-02-19 00:00:00-05:00  1.666418  1.666418  1.578048  1.607504   7410400   \n",
       "4 2002-02-20 00:00:00-05:00  1.615920  1.662210  1.603296  1.662210   6892800   \n",
       "\n",
       "   Dividends  Stock Splits  \n",
       "0        0.0           0.0  \n",
       "1        0.0           0.0  \n",
       "2        0.0           0.0  \n",
       "3        0.0           0.0  \n",
       "4        0.0           0.0  "
      ]
     },
     "execution_count": 6,
     "metadata": {},
     "output_type": "execute_result"
    }
   ],
   "source": [
    "# Get gme data\n",
    "Gme = yf.Ticker(\"GME\")\n",
    "gme_data = Gme.history(period='max')\n",
    "\n",
    "# Reset the index\n",
    "gme_data.reset_index(inplace=True)\n",
    "\n",
    "# Print out some observations\n",
    "gme_data.head()"
   ]
  },
  {
   "cell_type": "markdown",
   "id": "438ab9a6-164c-4044-bc89-68065a23235b",
   "metadata": {},
   "source": [
    "# Question 4: Use Webscraping to Extract GME Revenue Data"
   ]
  },
  {
   "cell_type": "markdown",
   "id": "af38ca1a-5f6e-4a69-a5e3-095ee999eb50",
   "metadata": {},
   "source": [
    "Display the last five rows of the gme_revenue dataframe using the tail function. Upload a screenshot of the results."
   ]
  },
  {
   "cell_type": "code",
   "execution_count": 24,
   "id": "0e1023e1-ed5c-4ac8-bbcf-16ff9bd4ddab",
   "metadata": {
    "tags": []
   },
   "outputs": [
    {
     "name": "stdout",
     "output_type": "stream",
     "text": [
      "    Date Revenue\n",
      "11  2009  $8,806\n",
      "12  2008  $7,094\n",
      "13  2007  $5,319\n",
      "14  2006  $3,092\n",
      "15  2005  $1,843\n"
     ]
    }
   ],
   "source": [
    "# Import Libraries \n",
    "import pandas as pd\n",
    "import requests\n",
    "from bs4 import BeautifulSoup\n",
    "import warnings\n",
    "# Ignore all warnings\n",
    "warnings.filterwarnings(\"ignore\", category=FutureWarning)\n",
    "\n",
    "# Setting up variable of URL for gme revenue data\n",
    "url = 'https://cf-courses-data.s3.us.cloud-object-storage.appdomain.cloud/IBMDeveloperSkillsNetwork-PY0220EN-SkillsNetwork/labs/project/stock.html'\n",
    "\n",
    "# Getting the data from URL\n",
    "response = requests.get(url)\n",
    "\n",
    "# Extract HTML information\n",
    "html_data = response.text\n",
    "\n",
    "# Parsing to beautifulsoup\n",
    "soup = BeautifulSoup(html_data,'html.parser')\n",
    "\n",
    "# Finding the tbody tag. There are two tables.This is the first one with Annual revenue\n",
    "table_body = soup.find_all(\"tbody\")[0]\n",
    "\n",
    "# Looping through each row of the first table\n",
    "data = []\n",
    "for row in table_body.find_all(\"tr\"):\n",
    "    cols = row.find_all(\"td\")\n",
    "    cols = [ele.text.strip() for ele in cols]\n",
    "    data.append(cols)\n",
    "\n",
    "gme_revenue = pd.DataFrame(data, columns=[\"Date\", \"Revenue\"])\n",
    "\n",
    "# Print last 5 obs    \n",
    "print(gme_revenue.tail())\n"
   ]
  },
  {
   "cell_type": "markdown",
   "id": "1773c706-7250-4521-a569-370382c8640a",
   "metadata": {},
   "source": [
    "# Question 5: Plot Tesla Stock Graph"
   ]
  },
  {
   "cell_type": "markdown",
   "id": "c717119a-9edc-4276-a80b-d2801ed621cd",
   "metadata": {},
   "source": [
    "Use the make_graph function to graph the Tesla Stock Data, also provide a title for the graph."
   ]
  },
  {
   "cell_type": "code",
   "execution_count": 34,
   "id": "cd8ba679-39a1-4a33-b064-16f670a8cdc8",
   "metadata": {
    "tags": []
   },
   "outputs": [
    {
     "data": {
      "image/png": "[encoded data removed]",
      "text/plain": [
       "<Figure size 1000x600 with 1 Axes>"
      ]
     },
     "metadata": {},
     "output_type": "display_data"
    }
   ],
   "source": [
    "# Bring in the graphy stuff\n",
    "import matplotlib.pyplot as plt\n",
    "import pandas as pd\n",
    "\n",
    "# Graph function definitions\n",
    "def make_graph(stock_data, title):\n",
    "    plt.figure(figsize=(10, 6))\n",
    "    plt.plot(stock_data['Date'], stock_data['Close'])  \n",
    "    plt.title(title)\n",
    "    plt.xlabel('Date')\n",
    "    plt.ylabel('Close Price')\n",
    "    plt.show()\n",
    "\n",
    "# Make it happen\n",
    "make_graph(tesla_data, \"Tesla Stock Price Over Time\")"
   ]
  },
  {
   "cell_type": "markdown",
   "id": "bb9ccd81-5b6f-430e-8b7e-15173ff85adb",
   "metadata": {},
   "source": [
    "# Question 6: Plot GameStop Stock Graph"
   ]
  },
  {
   "cell_type": "markdown",
   "id": "b9506830-af41-4cd3-bd51-43e080967427",
   "metadata": {},
   "source": [
    "\n",
    "Use the make_graph function to graph the GameStop Stock Data, also provide a title for the graph."
   ]
  },
  {
   "cell_type": "code",
   "execution_count": 35,
   "id": "eb9e7490-3248-4091-87e1-0db6e38956b3",
   "metadata": {
    "tags": []
   },
   "outputs": [
    {
     "data": {
      "image/png": "[encoded data removed]",
      "text/plain": [
       "<Figure size 1000x600 with 1 Axes>"
      ]
     },
     "metadata": {},
     "output_type": "display_data"
    }
   ],
   "source": [
    "# Bring in the graphy stuff\n",
    "import matplotlib.pyplot as plt\n",
    "import pandas as pd\n",
    "\n",
    "# Graph function definitions\n",
    "def make_graph(stock_data, title):\n",
    "    plt.figure(figsize=(10, 6))\n",
    "    plt.plot(stock_data['Date'], stock_data['Close'])  \n",
    "    plt.title(title)\n",
    "    plt.xlabel('Date')\n",
    "    plt.ylabel('Close Price')\n",
    "    plt.show()\n",
    "\n",
    "# Make it happen\n",
    "make_graph(gme_data, \"GameStop Stock Price Over Time\")"
   ]
  },
  {
   "cell_type": "code",
   "execution_count": null,
   "id": "c482b6ac-d654-4c86-9a43-325207c4c078",
   "metadata": {},
   "outputs": [],
   "source": []
  }
 ],
 "metadata": {
  "kernelspec": {
   "display_name": "Python",
   "language": "python",
   "name": "conda-env-python-py"
  },
  "language_info": {
   "codemirror_mode": {
    "name": "ipython",
    "version": 3
   },
   "file_extension": ".py",
   "mimetype": "text/x-python",
   "name": "python",
   "nbconvert_exporter": "python",
   "pygments_lexer": "ipython3",
   "version": "3.7.12"
  }
 },
 "nbformat": 4,
 "nbformat_minor": 5
}
